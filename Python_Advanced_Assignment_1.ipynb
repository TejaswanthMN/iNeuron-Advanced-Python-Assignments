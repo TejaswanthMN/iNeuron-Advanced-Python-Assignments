{
  "nbformat": 4,
  "nbformat_minor": 0,
  "metadata": {
    "colab": {
      "provenance": []
    },
    "kernelspec": {
      "name": "python3",
      "display_name": "Python 3"
    },
    "language_info": {
      "name": "python"
    }
  },
  "cells": [
    {
      "cell_type": "markdown",
      "source": [
        "### Python_Advanced_Assignment_1"
      ],
      "metadata": {
        "id": "1V59xgpI74Eu"
      }
    },
    {
      "cell_type": "markdown",
      "source": [
        "#### Q1. What is the purpose of Python&#39;s OOP?"
      ],
      "metadata": {
        "id": "Zk6748ZB77As"
      }
    },
    {
      "cell_type": "markdown",
      "source": [
        "OOPs concepts are used to modularize the code by splitting the functionality into multiple files and classes. This makes the code easy to read, edit, debug, reuse, collab and modify."
      ],
      "metadata": {
        "id": "brmx0IcGEVsK"
      }
    },
    {
      "cell_type": "markdown",
      "source": [
        "#### Q2. Where does an inheritance search look for an attribute?"
      ],
      "metadata": {
        "id": "T_jnc2Yh7-IV"
      }
    },
    {
      "cell_type": "markdown",
      "source": [
        "The child class first looks for the init function inside it and if its present, the attributes are taken from that method. When the child class does not have any init method, attributes are taken from the parent function init method."
      ],
      "metadata": {
        "id": "Iama6_9dEoqI"
      }
    },
    {
      "cell_type": "markdown",
      "source": [
        "#### Q3. How do you distinguish between a class object and an instance object?"
      ],
      "metadata": {
        "id": "XubaJovg7_t-"
      }
    },
    {
      "cell_type": "markdown",
      "source": [
        "The value of a class attribute is shared across instances. They all\n",
        "access the value from the same source, the class.\n",
        "Changing the value of a class attribute affects all instances, since\n",
        "they take the value from the same source.\n",
        "The value of a class attribute can be accessed using the name of\n",
        "the class. No instance is required to access class attributes."
      ],
      "metadata": {
        "id": "TRVp8Mjm8tbr"
      }
    },
    {
      "cell_type": "markdown",
      "source": [
        "#### Q4. What makes the first argument in a class’s method function special?"
      ],
      "metadata": {
        "id": "slS_8uV08Axr"
      }
    },
    {
      "cell_type": "markdown",
      "source": [
        "The first argument passed in the class's method is the object itself using the parameter self. So we can call methods or access attributes that is specific to the particular object."
      ],
      "metadata": {
        "id": "h9vsrFLsFx-9"
      }
    },
    {
      "cell_type": "markdown",
      "source": [
        "#### Q5. What is the purpose of the __init__ method?"
      ],
      "metadata": {
        "id": "1z_J1KgU8B2G"
      }
    },
    {
      "cell_type": "markdown",
      "source": [
        "init method initializes the object and this method gets called as soon as the object is created. So using this method we can initialise the instance attributes."
      ],
      "metadata": {
        "id": "lDl1Emx1FzRG"
      }
    },
    {
      "cell_type": "markdown",
      "source": [
        "#### Q6. What is the process for creating a class instance?"
      ],
      "metadata": {
        "id": "0F8Sj-Nn8RZr"
      }
    },
    {
      "cell_type": "markdown",
      "source": [
        "To create a class instance, we can pass the arguments defined in the class's init function inside the parantheses preceeded by the class name and then storing this inside a variable. Syntax is as follows:\n",
        "\n",
        "```\n",
        "object_variable = class_name(argumets)\n",
        "```\n",
        "\n"
      ],
      "metadata": {
        "id": "wT3ht52wF0xM"
      }
    },
    {
      "cell_type": "markdown",
      "source": [
        "#### Q7. What is the process for creating a class?"
      ],
      "metadata": {
        "id": "5Gvf0IYJ8VOO"
      }
    },
    {
      "cell_type": "markdown",
      "source": [
        "A class can be created using the keyword 'class' and followed by the class name. We can define init method, class attributes, instance attributes and any other methods inside this class. The syntax for the same is as follows:\n",
        "\n",
        "\n",
        "```\n",
        "class class_name:\n",
        "  pass\n",
        "```\n",
        "\n"
      ],
      "metadata": {
        "id": "6AA8DyFMF1_2"
      }
    },
    {
      "cell_type": "markdown",
      "source": [
        "#### Q8. How would you define the superclasses of a class?"
      ],
      "metadata": {
        "id": "7iIufWRV8ZPk"
      }
    },
    {
      "cell_type": "markdown",
      "source": [
        "We can pass the super class name inside paranthesis while defining the child class. The syntax will is as follows.\n",
        "\n",
        "\n",
        "```\n",
        "class parent_class:\n",
        "  pass\n",
        "\n",
        "class child_class(parent_class):\n",
        "  pass\n",
        "```\n",
        "\n"
      ],
      "metadata": {
        "id": "jcWsDcWiF3K4"
      }
    }
  ]
}