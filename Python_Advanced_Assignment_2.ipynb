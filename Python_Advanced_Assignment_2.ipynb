{
  "nbformat": 4,
  "nbformat_minor": 0,
  "metadata": {
    "colab": {
      "provenance": []
    },
    "kernelspec": {
      "name": "python3",
      "display_name": "Python 3"
    },
    "language_info": {
      "name": "python"
    }
  },
  "cells": [
    {
      "cell_type": "markdown",
      "source": [
        "#### Python_Advanced_Assignment_2"
      ],
      "metadata": {
        "id": "ZDaf7xTs887K"
      }
    },
    {
      "cell_type": "markdown",
      "source": [
        "#### Q1. What is the relationship between classes and modules?"
      ],
      "metadata": {
        "id": "Hbh_v4dD9Abx"
      }
    },
    {
      "cell_type": "markdown",
      "source": [
        "Classes are the blueprints of the realworld entities which holds the properties of the realworld entities including attributes and actions.\n",
        "Modules are bunch of classes, functions and variables stored in a seperate .py file. These can be imported and accessed  anytime in any other python files. These helps reducing the redundency of the code."
      ],
      "metadata": {
        "id": "qGwPJNxwdpe2"
      }
    },
    {
      "cell_type": "markdown",
      "source": [
        "#### Q2. How do you make instances and classes?"
      ],
      "metadata": {
        "id": "RHPR-f4K9G5e"
      }
    },
    {
      "cell_type": "markdown",
      "source": [
        "Class is created using the keyword 'Class' followed by the class name and semi colon. After this definition, we can define a constructor to define the initiation attributes and can define class attributes and methods.\n",
        "```\n",
        "class class_name:\n",
        "  pass\n",
        "```\n",
        " To create a class instance, we can pass the arguments defined in the class's init function inside the parantheses preceeded by the class name and then storing this inside a variable. Syntax is as follows:\n",
        "\n",
        "```object_variable = class_name(argumets)```"
      ],
      "metadata": {
        "id": "1nNhkHuh9G3L"
      }
    },
    {
      "cell_type": "markdown",
      "source": [
        "#### Q3. Where and how should be class attributes created?"
      ],
      "metadata": {
        "id": "zCuG0HVq9G0d"
      }
    },
    {
      "cell_type": "markdown",
      "source": [
        "A class attribute is a Python variable that belongs to a class rather than a particular object. It is shared between all the objects of this class and is defined outside the constructor function, __init__(self,...), of the class."
      ],
      "metadata": {
        "id": "4yTKlfve9Gwc"
      }
    },
    {
      "cell_type": "markdown",
      "source": [
        "#### Q4. Where and how are instance attributes created?"
      ],
      "metadata": {
        "id": "kazMY7TE9Gsm"
      }
    },
    {
      "cell_type": "markdown",
      "source": [
        "An instance attribute is a Python variable belonging to only one object. This variable is only accessible in the scope of this object and it is defined inside the constructor function, __init__(self,..) of the class."
      ],
      "metadata": {
        "id": "m6dLPJEP9Gn5"
      }
    },
    {
      "cell_type": "markdown",
      "source": [
        "#### Q5. What does the term &quot;self&quot; in a Python class mean?"
      ],
      "metadata": {
        "id": "DLMBvp-E9GiV"
      }
    },
    {
      "cell_type": "markdown",
      "source": [
        "self is the generic way of reffering to the current instance of the class."
      ],
      "metadata": {
        "id": "x3uJ5UTL9Gbh"
      }
    },
    {
      "cell_type": "markdown",
      "source": [
        "#### Q6. How does a Python class handle operator overloading?"
      ],
      "metadata": {
        "id": "v1HX7hgL9GXe"
      }
    },
    {
      "cell_type": "markdown",
      "source": [
        "Operator Overloading gives extended meaning beyond their predefined operational meaning. For example operator + is used to add two integers and join two strings and merge two lists. It is achievable because ‘+’ operator is overloaded by int class and str class. You might have noticed that the same built-in operator or function shows different behavior for objects of different classes, this is called Operator Overloading."
      ],
      "metadata": {
        "id": "TplTIn2G9dND"
      }
    },
    {
      "cell_type": "markdown",
      "source": [
        "#### Q7. When do you consider allowing operator overloading of your classes?"
      ],
      "metadata": {
        "id": "aB6L7CO19dJq"
      }
    },
    {
      "cell_type": "markdown",
      "source": [
        "When we wanted to use operators on the objects of a class we consider allowing operator overloading of the classes."
      ],
      "metadata": {
        "id": "yjod7-sJ9dFS"
      }
    },
    {
      "cell_type": "markdown",
      "source": [
        "#### Q8. What is the most popular form of operator overloading?"
      ],
      "metadata": {
        "id": "ow6rHBqY9dBz"
      }
    },
    {
      "cell_type": "markdown",
      "source": [
        "Plus Operator Overloaded"
      ],
      "metadata": {
        "id": "I8zOfpxx9c-Y"
      }
    },
    {
      "cell_type": "markdown",
      "source": [
        "#### Q9. What are the two most important concepts to grasp in order to comprehend Python OOP code?"
      ],
      "metadata": {
        "id": "YxdUYGFb9c63"
      }
    },
    {
      "cell_type": "markdown",
      "source": [
        "inheritance and polymorphism"
      ],
      "metadata": {
        "id": "mX5BblZE9c3n"
      }
    }
  ]
}